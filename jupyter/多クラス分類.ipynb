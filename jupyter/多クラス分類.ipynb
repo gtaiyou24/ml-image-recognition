{
 "cells": [
  {
   "cell_type": "markdown",
   "metadata": {},
   "source": [
    "# 多クラス分類\n",
    "\n",
    "[畳み込みニューラルネットワーク (Convolutional Neural Networks)  |  TensorFlow Core](https://www.tensorflow.org/tutorials/images/cnn?hl=ja)"
   ]
  },
  {
   "cell_type": "code",
   "execution_count": 1,
   "metadata": {
    "ExecuteTime": {
     "end_time": "2020-09-22T23:38:13.665145Z",
     "start_time": "2020-09-22T23:38:03.135769Z"
    }
   },
   "outputs": [],
   "source": [
    "import pandas as pd\n",
    "import numpy as np\n",
    "\n",
    "import tensorflow as tf\n",
    "from tensorflow import keras \n",
    "\n",
    "import matplotlib.pyplot as plt\n",
    "import seaborn as sns"
   ]
  },
  {
   "cell_type": "markdown",
   "metadata": {},
   "source": [
    "# データセットの読み込み"
   ]
  },
  {
   "cell_type": "code",
   "execution_count": 2,
   "metadata": {
    "ExecuteTime": {
     "end_time": "2020-09-22T23:38:14.297922Z",
     "start_time": "2020-09-22T23:38:13.668124Z"
    }
   },
   "outputs": [],
   "source": [
    "(train_images, train_labels), (test_images, test_labels) = keras.datasets.fashion_mnist.load_data()"
   ]
  },
  {
   "cell_type": "code",
   "execution_count": 3,
   "metadata": {
    "ExecuteTime": {
     "end_time": "2020-09-22T23:38:14.309024Z",
     "start_time": "2020-09-22T23:38:14.302376Z"
    }
   },
   "outputs": [],
   "source": [
    "train_images = train_images.reshape((60000, 28, 28, 1))\n",
    "test_images = test_images.reshape((10000, 28, 28, 1))"
   ]
  },
  {
   "cell_type": "markdown",
   "metadata": {
    "ExecuteTime": {
     "end_time": "2020-09-07T00:19:18.520086Z",
     "start_time": "2020-09-07T00:19:18.500784Z"
    }
   },
   "source": [
    "$W \\times W \\times K = $28×28×1の画像を6万点 + 1万点格納しているデータセット"
   ]
  },
  {
   "cell_type": "code",
   "execution_count": 4,
   "metadata": {
    "ExecuteTime": {
     "end_time": "2020-09-22T23:38:14.359684Z",
     "start_time": "2020-09-22T23:38:14.311629Z"
    }
   },
   "outputs": [
    {
     "name": "stdout",
     "output_type": "stream",
     "text": [
      "学習用データ =  (60000, 28, 28, 1)\n",
      "検証用データ =  (10000, 28, 28, 1)\n"
     ]
    },
    {
     "data": {
      "text/plain": [
       "9    6000\n",
       "8    6000\n",
       "7    6000\n",
       "6    6000\n",
       "5    6000\n",
       "4    6000\n",
       "3    6000\n",
       "2    6000\n",
       "1    6000\n",
       "0    6000\n",
       "dtype: int64"
      ]
     },
     "execution_count": 4,
     "metadata": {},
     "output_type": "execute_result"
    }
   ],
   "source": [
    "print(\"学習用データ = \", train_images.shape)\n",
    "print(\"検証用データ = \", test_images.shape)\n",
    "pd.Series(train_labels).value_counts()"
   ]
  },
  {
   "cell_type": "markdown",
   "metadata": {},
   "source": [
    "# 前処理"
   ]
  },
  {
   "cell_type": "code",
   "execution_count": 5,
   "metadata": {
    "ExecuteTime": {
     "end_time": "2020-09-22T23:38:18.851377Z",
     "start_time": "2020-09-22T23:38:18.443815Z"
    }
   },
   "outputs": [],
   "source": [
    "# ピクセルの値を 0~1 の間に正規化\n",
    "train_images, test_images = train_images / 255.0, test_images / 255.0"
   ]
  },
  {
   "cell_type": "markdown",
   "metadata": {},
   "source": [
    "# CNNの構築"
   ]
  },
  {
   "cell_type": "code",
   "execution_count": 6,
   "metadata": {
    "ExecuteTime": {
     "end_time": "2020-09-22T23:38:20.418173Z",
     "start_time": "2020-09-22T23:38:20.412772Z"
    }
   },
   "outputs": [],
   "source": [
    "IMAGE_HEIGHT, IMAGE_WIDTH, COLOR_CHANNELS = train_images.shape[1:]"
   ]
  },
  {
   "cell_type": "code",
   "execution_count": 7,
   "metadata": {
    "ExecuteTime": {
     "end_time": "2020-09-22T23:38:20.941540Z",
     "start_time": "2020-09-22T23:38:20.930537Z"
    }
   },
   "outputs": [
    {
     "name": "stdout",
     "output_type": "stream",
     "text": [
      "画素数 = 28×28\n",
      "チャネル数 = 1\n"
     ]
    }
   ],
   "source": [
    "print(\"画素数 = {}×{}\".format(IMAGE_HEIGHT, IMAGE_WIDTH))\n",
    "print(\"チャネル数 = {}\".format(COLOR_CHANNELS))"
   ]
  },
  {
   "cell_type": "markdown",
   "metadata": {},
   "source": [
    "## モデリング"
   ]
  },
  {
   "cell_type": "markdown",
   "metadata": {},
   "source": [
    "**ハイパーパラメーター**\n",
    "\n",
    "\n",
    "| ハイパーパラメーター | 値 | 説明 | 適用する層 |\n",
    "|:-----------------------:|:----|:------|:-------------|\n",
    "| パディング(padding) | ゼロパディング,　...　 | 入力画像の外側に幅$[H(フィルターサイズ)/2]$の「ふち」をつけて大きくし、出力画像のサイズが元の入力画像と同サイズになるようにする | 畳込み層 |\n",
    "| ストライド(stride) | 整数値 | フィルタの適用位置を１画素ずつではなく、数画素ずつずらして計算する | 畳込み層, プーリング層 |\n",
    "| フィルタの種類数($M$) | 1以上の整数値 | ... | 畳込み層 |"
   ]
  },
  {
   "cell_type": "code",
   "execution_count": 8,
   "metadata": {
    "ExecuteTime": {
     "end_time": "2020-09-22T23:39:14.159678Z",
     "start_time": "2020-09-22T23:39:13.925965Z"
    }
   },
   "outputs": [],
   "source": [
    "from tensorflow.keras.models import Sequential\n",
    "from tensorflow.keras.layers import Dense, Conv2D, Flatten, Dropout, MaxPooling2D\n",
    "\n",
    "\n",
    "カーネルサイズ = (3, 3)  # フィルタのサイズ\n",
    "フィルターの種類数 = 32\n",
    "ゼロパディング = \"valid\"  # zero-padding\n",
    "\n",
    "model = Sequential([\n",
    "    Conv2D(フィルターの種類数, カーネルサイズ, strides=(1, 1), padding=ゼロパディング, activation='relu', input_shape=(IMAGE_HEIGHT, IMAGE_WIDTH, COLOR_CHANNELS)),\n",
    "    MaxPooling2D(pool_size=(2, 2), strides=None, padding=ゼロパディング),\n",
    "    Conv2D(64, (3, 3), activation='relu'),\n",
    "    MaxPooling2D((2, 2)),\n",
    "    Conv2D(64, (3, 3), activation='relu'),\n",
    "    Flatten(),\n",
    "    Dense(64, activation='relu'),\n",
    "    Dense(10, activation='softmax')\n",
    "])"
   ]
  },
  {
   "cell_type": "code",
   "execution_count": 9,
   "metadata": {
    "ExecuteTime": {
     "end_time": "2020-09-22T23:39:19.128866Z",
     "start_time": "2020-09-22T23:39:19.118681Z"
    }
   },
   "outputs": [
    {
     "name": "stdout",
     "output_type": "stream",
     "text": [
      "Model: \"sequential\"\n",
      "_________________________________________________________________\n",
      "Layer (type)                 Output Shape              Param #   \n",
      "=================================================================\n",
      "conv2d (Conv2D)              (None, 26, 26, 32)        320       \n",
      "_________________________________________________________________\n",
      "max_pooling2d (MaxPooling2D) (None, 13, 13, 32)        0         \n",
      "_________________________________________________________________\n",
      "conv2d_1 (Conv2D)            (None, 11, 11, 64)        18496     \n",
      "_________________________________________________________________\n",
      "max_pooling2d_1 (MaxPooling2 (None, 5, 5, 64)          0         \n",
      "_________________________________________________________________\n",
      "conv2d_2 (Conv2D)            (None, 3, 3, 64)          36928     \n",
      "_________________________________________________________________\n",
      "flatten (Flatten)            (None, 576)               0         \n",
      "_________________________________________________________________\n",
      "dense (Dense)                (None, 64)                36928     \n",
      "_________________________________________________________________\n",
      "dense_1 (Dense)              (None, 10)                650       \n",
      "=================================================================\n",
      "Total params: 93,322\n",
      "Trainable params: 93,322\n",
      "Non-trainable params: 0\n",
      "_________________________________________________________________\n"
     ]
    }
   ],
   "source": [
    "model.summary()"
   ]
  },
  {
   "cell_type": "code",
   "execution_count": 10,
   "metadata": {
    "ExecuteTime": {
     "end_time": "2020-09-22T23:39:23.480491Z",
     "start_time": "2020-09-22T23:39:23.412868Z"
    }
   },
   "outputs": [],
   "source": [
    "model.compile(optimizer='adam', loss='sparse_categorical_crossentropy', metrics=['accuracy'])"
   ]
  },
  {
   "cell_type": "code",
   "execution_count": 22,
   "metadata": {
    "ExecuteTime": {
     "end_time": "2020-09-23T00:23:04.852793Z",
     "start_time": "2020-09-23T00:18:49.673077Z"
    }
   },
   "outputs": [
    {
     "name": "stdout",
     "output_type": "stream",
     "text": [
      "Train on 60000 samples, validate on 10000 samples\n",
      "Epoch 1/5\n",
      "60000/60000 [==============================] - 49s 812us/sample - loss: 0.0857 - accuracy: 0.9668 - val_loss: 0.3713 - val_accuracy: 0.9095\n",
      "Epoch 2/5\n",
      "60000/60000 [==============================] - 51s 852us/sample - loss: 0.0792 - accuracy: 0.9695 - val_loss: 0.3620 - val_accuracy: 0.9087\n",
      "Epoch 3/5\n",
      "60000/60000 [==============================] - 52s 858us/sample - loss: 0.0779 - accuracy: 0.9700 - val_loss: 0.3623 - val_accuracy: 0.9100\n",
      "Epoch 4/5\n",
      "60000/60000 [==============================] - 50s 836us/sample - loss: 0.0714 - accuracy: 0.9724 - val_loss: 0.3945 - val_accuracy: 0.9065\n",
      "Epoch 5/5\n",
      "60000/60000 [==============================] - 54s 892us/sample - loss: 0.0652 - accuracy: 0.9756 - val_loss: 0.4009 - val_accuracy: 0.9086\n"
     ]
    }
   ],
   "source": [
    "epochs = 5\n",
    "history = model.fit(train_images, train_labels, epochs=epochs, validation_data=(test_images, test_labels))"
   ]
  },
  {
   "cell_type": "code",
   "execution_count": 17,
   "metadata": {
    "ExecuteTime": {
     "end_time": "2020-09-22T23:54:48.227010Z",
     "start_time": "2020-09-22T23:54:46.496402Z"
    }
   },
   "outputs": [
    {
     "name": "stdout",
     "output_type": "stream",
     "text": [
      "10000/1 - 2s - loss: 0.4155 - accuracy: 0.9140\n"
     ]
    }
   ],
   "source": [
    "test_loss, test_acc = model.evaluate(test_images,  test_labels, verbose=2)"
   ]
  },
  {
   "cell_type": "code",
   "execution_count": 24,
   "metadata": {
    "ExecuteTime": {
     "end_time": "2020-09-23T00:23:47.166034Z",
     "start_time": "2020-09-23T00:23:46.700439Z"
    }
   },
   "outputs": [
    {
     "data": {
      "image/png": "[encoded data removed]",
      "text/plain": [
       "<Figure size 576x576 with 2 Axes>"
      ]
     },
     "metadata": {
      "needs_background": "light"
     },
     "output_type": "display_data"
    }
   ],
   "source": [
    "acc = history.history['accuracy']\n",
    "val_acc = history.history['val_accuracy']\n",
    "\n",
    "loss = history.history['loss']\n",
    "val_loss = history.history['val_loss']\n",
    "\n",
    "epochs_range = range(epochs)\n",
    "\n",
    "plt.figure(figsize=(8, 8))\n",
    "plt.subplot(1, 2, 1)\n",
    "plt.plot(epochs_range, acc, label='Training Accuracy')\n",
    "plt.plot(epochs_range, val_acc, label='Validation Accuracy')\n",
    "plt.legend(loc='lower right')\n",
    "plt.title('Training and Validation Accuracy')\n",
    "\n",
    "plt.subplot(1, 2, 2)\n",
    "plt.plot(epochs_range, loss, label='Training Loss')\n",
    "plt.plot(epochs_range, val_loss, label='Validation Loss')\n",
    "plt.legend(loc='upper right')\n",
    "plt.title('Training and Validation Loss')\n",
    "plt.show()"
   ]
  },
  {
   "cell_type": "code",
   "execution_count": null,
   "metadata": {},
   "outputs": [],
   "source": []
  }
 ],
 "metadata": {
  "kernelspec": {
   "display_name": "Python 3",
   "language": "python",
   "name": "python3"
  },
  "language_info": {
   "codemirror_mode": {
    "name": "ipython",
    "version": 3
   },
   "file_extension": ".py",
   "mimetype": "text/x-python",
   "name": "python",
   "nbconvert_exporter": "python",
   "pygments_lexer": "ipython3",
   "version": "3.7.2"
  },
  "toc": {
   "nav_menu": {},
   "number_sections": true,
   "sideBar": true,
   "skip_h1_title": false,
   "toc_cell": false,
   "toc_position": {},
   "toc_section_display": "block",
   "toc_window_display": false
  }
 },
 "nbformat": 4,
 "nbformat_minor": 2
}
